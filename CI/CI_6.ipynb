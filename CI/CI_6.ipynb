{
  "cells": [
    {
      "cell_type": "code",
      "execution_count": 1,
      "metadata": {
        "id": "_YoX7adlA0gC"
      },
      "outputs": [],
      "source": [
        "import numpy as np"
      ]
    },
    {
      "cell_type": "code",
      "execution_count": 2,
      "metadata": {
        "id": "s_7RNAbGBAdB"
      },
      "outputs": [],
      "source": [
        "# Function to perform Union operation on fuzzy sets\n",
        "def fuzzy_union(A, B):\n",
        "  return np.maximum(A, B)"
      ]
    },
    {
      "cell_type": "code",
      "execution_count": 3,
      "metadata": {
        "id": "9vFK4cDbBEHW"
      },
      "outputs": [],
      "source": [
        "# Function to perform Intersection operation on fuzzy sets\n",
        "def fuzzy_intersection(A, B):\n",
        "  return np.minimum(A, B)"
      ]
    },
    {
      "cell_type": "code",
      "execution_count": 4,
      "metadata": {
        "id": "W3_YF5f-BJqo"
      },
      "outputs": [],
      "source": [
        "# Function to perform Complement operation on a fuzzy set\n",
        "def fuzzy_complement(A):\n",
        "  return 1 - A"
      ]
    },
    {
      "cell_type": "code",
      "execution_count": 5,
      "metadata": {
        "id": "d2Lyuu6GBNeH"
      },
      "outputs": [],
      "source": [
        "# Function to perform Difference operation on fuzzy sets\n",
        "def fuzzy_difference(A, B):\n",
        "  return np.maximum(A, 1 - B)"
      ]
    },
    {
      "cell_type": "code",
      "execution_count": 6,
      "metadata": {
        "id": "LnQei2nqBQFY"
      },
      "outputs": [],
      "source": [
        "# Function to create fuzzy relation by Cartesian product of two fuzzy sets\n",
        "def cartesian_product(A, B):\n",
        "  return np.outer(A, B)"
      ]
    },
    {
      "cell_type": "code",
      "execution_count": 7,
      "metadata": {
        "id": "wlBVy9BLBWNk"
      },
      "outputs": [],
      "source": [
        "# Function to perform Max-Min composition on two fuzzy relations\n",
        "def max_min_composition(R, S):\n",
        "  return np.max(np.minimum.outer(R, S), axis=1)"
      ]
    },
    {
      "cell_type": "code",
      "execution_count": 8,
      "metadata": {
        "id": "OYm4mWGuBZ3b"
      },
      "outputs": [],
      "source": [
        "# Example usage\n",
        "A = np.array([0.2, 0.4, 0.6, 0.8]) # Fuzzy set A\n",
        "B = np.array([0.3, 0.5, 0.7, 0.9]) # Fuzzy set B"
      ]
    },
    {
      "cell_type": "code",
      "execution_count": 9,
      "metadata": {
        "id": "sf471nGQBcm1"
      },
      "outputs": [],
      "source": [
        "# Operations on fuzzy sets\n",
        "union_result = fuzzy_union(A, B)\n",
        "intersection_result = fuzzy_intersection(A, B)\n",
        "complement_A = fuzzy_complement(A)\n",
        "difference_result = fuzzy_difference(A, B)"
      ]
    },
    {
      "cell_type": "code",
      "execution_count": 10,
      "metadata": {
        "colab": {
          "base_uri": "https://localhost:8080/"
        },
        "id": "dt1IRANZBepo",
        "outputId": "29080f72-8f31-4342-fc3b-6a1629ab7b69"
      },
      "outputs": [
        {
          "name": "stdout",
          "output_type": "stream",
          "text": [
            "Union: [0.3 0.5 0.7 0.9]\n",
            "Intersection: [0.2 0.4 0.6 0.8]\n",
            "Complement of A: [0.8 0.6 0.4 0.2]\n",
            "Difference: [0.7 0.5 0.6 0.8]\n"
          ]
        }
      ],
      "source": [
        "print(\"Union:\", union_result)\n",
        "print(\"Intersection:\", intersection_result)\n",
        "print(\"Complement of A:\", complement_A)\n",
        "print(\"Difference:\", difference_result)"
      ]
    },
    {
      "cell_type": "code",
      "execution_count": 11,
      "metadata": {
        "id": "1TLBxrMMBh9U"
      },
      "outputs": [],
      "source": [
        "# Fuzzy relations\n",
        "R = np.array([0.2, 0.5, 0.4]) # Fuzzy relation R\n",
        "S = np.array([0.6, 0.3, 0.7]) # Fuzzy relation S"
      ]
    },
    {
      "cell_type": "code",
      "execution_count": 12,
      "metadata": {
        "id": "3SOgTy6CBlEO"
      },
      "outputs": [],
      "source": [
        "# Cartesian product of fuzzy relations\n",
        "cartesian_result = cartesian_product(R, S)"
      ]
    },
    {
      "cell_type": "code",
      "execution_count": 13,
      "metadata": {
        "id": "RdPbw9gpBnfA"
      },
      "outputs": [],
      "source": [
        "# Max-Min composition of fuzzy relations\n",
        "composition_result = max_min_composition(R, S)"
      ]
    },
    {
      "cell_type": "code",
      "execution_count": 14,
      "metadata": {
        "colab": {
          "base_uri": "https://localhost:8080/"
        },
        "id": "w_FZX_wXBsOr",
        "outputId": "d3b99aa2-6e4e-4a22-954c-1eff2a09a2cb"
      },
      "outputs": [
        {
          "name": "stdout",
          "output_type": "stream",
          "text": [
            "Cartesian product of R and S:\n",
            "[[0.12 0.06 0.14]\n",
            " [0.3  0.15 0.35]\n",
            " [0.24 0.12 0.28]]\n",
            "Max-Min composition of R and S:\n",
            "[0.2 0.5 0.4]\n"
          ]
        }
      ],
      "source": [
        "print(\"Cartesian product of R and S:\")\n",
        "print(cartesian_result)\n",
        "\n",
        "print(\"Max-Min composition of R and S:\")\n",
        "print(composition_result)"
      ]
    },
    {
      "cell_type": "code",
      "execution_count": null,
      "metadata": {
        "id": "pRT9EShNBuT5"
      },
      "outputs": [],
      "source": []
    }
  ],
  "metadata": {
    "colab": {
      "provenance": []
    },
    "kernelspec": {
      "display_name": "Python 3",
      "name": "python3"
    },
    "language_info": {
      "name": "python"
    }
  },
  "nbformat": 4,
  "nbformat_minor": 0
}
